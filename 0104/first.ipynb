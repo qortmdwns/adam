{
 "cells": [
  {
   "cell_type": "code",
   "execution_count": 4,
   "metadata": {},
   "outputs": [
    {
     "name": "stdout",
     "output_type": "stream",
     "text": [
      "None\n",
      "{'banana': 1, 'apple': 1}\n"
     ]
    }
   ],
   "source": [
    "\n",
    "A = [\"a\",\"b\",\"c\"]\n",
    "\n",
    "A = A.append(\"d\")\n",
    "\n",
    "fruits = {\"banana\":1,\"apple\":1}\n",
    "print(A)\n",
    "print(fruits)\n"
   ]
  },
  {
   "cell_type": "code",
   "execution_count": 10,
   "metadata": {},
   "outputs": [
    {
     "name": "stdout",
     "output_type": "stream",
     "text": [
      "[10, 20, 30, 40, 50]\n"
     ]
    }
   ],
   "source": [
    "#A = input()\n",
    "\n",
    "#A.split()\n",
    "\n",
    "A = ['10','20','30','40','50']\n",
    "\n",
    "b = [int(x) for x in input().split()]\n",
    "\n",
    "print(b)\n",
    "\n"
   ]
  },
  {
   "cell_type": "code",
   "execution_count": 11,
   "metadata": {},
   "outputs": [],
   "source": [
    "import random\n",
    "a = ['a','b','c']\n",
    "random.shuffle(a)\n",
    "\n",
    "lower_alphabets = ['a', 'b', 'c', 'd', 'e', 'f', 'g', 'h', 'i', 'j', 'k', 'l', 'm', 'n', 'o', 'p', 'q', 'r', 's', 't', 'u', 'v', 'w', 'x', 'y', 'z']\n",
    "symbols = ['!', '#', '$', '%', '&', '(', ')', '*', '+']\n",
    "num_of_alphabets = 9\n",
    "num_of_numbers = 3\n",
    "num_of_symbols = 2\n",
    "\n",
    "random.shuffle(lower_alphabets)\n",
    "a = [lower_alphabets]\n"
   ]
  },
  {
   "cell_type": "code",
   "execution_count": 18,
   "metadata": {},
   "outputs": [
    {
     "name": "stdout",
     "output_type": "stream",
     "text": [
      "3\n"
     ]
    }
   ],
   "source": [
    "a = \"Strawberry Moon\"\n",
    "b = 0\n",
    "for i in a:\n",
    "  if \"r\" in i:\n",
    "    b += 1\n",
    "print(b)\n"
   ]
  },
  {
   "cell_type": "code",
   "execution_count": 5,
   "metadata": {},
   "outputs": [
    {
     "name": "stdout",
     "output_type": "stream",
     "text": [
      "16\n",
      "25\n"
     ]
    }
   ],
   "source": [
    "x = int(input(\"숫자\"))\n",
    "y = 4\n",
    "def function(a):\n",
    "  solve_a = (a**2)+(2*a)+1\n",
    "  return(solve_a)\n",
    "print(function(x))\n",
    "\n",
    "\n",
    "def novel(b):\n",
    "  solve_b = (b*b)+(2*b)+1\n",
    "  return(solve_b)\n",
    "print(novel(y))\n"
   ]
  },
  {
   "cell_type": "code",
   "execution_count": 47,
   "metadata": {},
   "outputs": [
    {
     "name": "stdout",
     "output_type": "stream",
     "text": [
      "남은 음료 ['게토레이', '게토레이', '레쓰비', '레쓰비', '생수', '생수', '이프로', '이프로']\n",
      "콜라가 없음\n",
      "콜라가 추가됨\n",
      "콜라가 삭제됨\n"
     ]
    }
   ],
   "source": [
    "vending_machine = [\"게토레이\", \"게토레이\", \"레쓰비\", \"레쓰비\", \"생수\", \"생수\", \"이프로\", \"이프로\"]\n",
    "\n",
    "def check_machine():\n",
    " print(f\"남은 음료\",vending_machine)\n",
    "check_machine()\n",
    "def is_drink():\n",
    "  drink = input(\"음료\")\n",
    "  if drink in vending_machine:\n",
    "    print(f\"{drink}가 남아있음\")\n",
    "  else: \n",
    "    print(f\"{drink}가 없음\")\n",
    "is_drink()\n",
    "\n",
    "def add_drink():\n",
    " drink_1 = input(\"음료\")\n",
    " vending_machine.append({drink_1})\n",
    " print(f\"{drink_1}가 추가됨\")\n",
    "add_drink()\n",
    "\n",
    "def remove_drink():\n",
    "  drink_2 = input(\"음료\")\n",
    "  vending_machine.remove({drink_2})\n",
    "  print(f\"{drink_2}가 삭제됨\")\n",
    "remove_drink()"
   ]
  },
  {
   "cell_type": "code",
   "execution_count": 68,
   "metadata": {},
   "outputs": [
    {
     "data": {
      "text/plain": [
       "120"
      ]
     },
     "execution_count": 68,
     "metadata": {},
     "output_type": "execute_result"
    }
   ],
   "source": [
    "def num(i):\n",
    "  if i == 1:\n",
    "    return 1\n",
    "  return i*num(i-1)\n",
    "\n",
    "num(int(input(\"숫자\")))\n"
   ]
  },
  {
   "cell_type": "code",
   "execution_count": 6,
   "metadata": {},
   "outputs": [
    {
     "name": "stdout",
     "output_type": "stream",
     "text": [
      "<function num at 0x00000294940F0360>\n"
     ]
    }
   ],
   "source": [
    "def num(i):\n",
    "  if i < 3:\n",
    "    return 1\n",
    "  else:\n",
    "    nnuumm = num(i-1)+num(i-2)\n",
    "  return nnuumm\n",
    "\n",
    "num(int(input(\"숫자\")))\n",
    "\n",
    "print(num)"
   ]
  },
  {
   "cell_type": "code",
   "execution_count": 14,
   "metadata": {},
   "outputs": [
    {
     "name": "stdout",
     "output_type": "stream",
     "text": [
      "[1, 1, 2, 3, 5]\n"
     ]
    }
   ],
   "source": [
    "f_list = [1,1]\n",
    "def fibo(n):\n",
    "    for i in range(2, n):\n",
    "        f_list.append(f_list[i-1] + f_list[i-2])\n",
    "    return f_list\n",
    "fibo(5)\n",
    "print(f_list)"
   ]
  }
 ],
 "metadata": {
  "kernelspec": {
   "display_name": "base",
   "language": "python",
   "name": "python3"
  },
  "language_info": {
   "codemirror_mode": {
    "name": "ipython",
    "version": 3
   },
   "file_extension": ".py",
   "mimetype": "text/x-python",
   "name": "python",
   "nbconvert_exporter": "python",
   "pygments_lexer": "ipython3",
   "version": "3.11.5"
  }
 },
 "nbformat": 4,
 "nbformat_minor": 2
}
