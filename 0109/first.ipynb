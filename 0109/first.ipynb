{
 "cells": [
  {
   "cell_type": "code",
   "execution_count": 7,
   "metadata": {},
   "outputs": [
    {
     "name": "stdout",
     "output_type": "stream",
     "text": [
      "0.6666666666666666\n",
      "1.7724538509055159\n"
     ]
    }
   ],
   "source": [
    "import mycalc\n",
    "print(mycalc.devide(2,3))\n",
    "\n",
    "import math\n",
    "print(math.sqrt(math.pi))"
   ]
  },
  {
   "cell_type": "code",
   "execution_count": 9,
   "metadata": {},
   "outputs": [
    {
     "name": "stdout",
     "output_type": "stream",
     "text": [
      "4\n",
      "1.1305698042877856\n"
     ]
    }
   ],
   "source": [
    "import random\n",
    "\n",
    "print(random.randint(1,5))\n",
    "print(random.uniform(1,4))"
   ]
  },
  {
   "cell_type": "code",
   "execution_count": 21,
   "metadata": {},
   "outputs": [
    {
     "name": "stdout",
     "output_type": "stream",
     "text": [
      "[11, 37, 62, 69]\n"
     ]
    }
   ],
   "source": [
    "import random\n",
    "\n",
    "num = []\n",
    "for i in range(4) :\n",
    "  num.append(random.randint(1,100))\n",
    "num.sort()\n",
    "print(num)\n"
   ]
  },
  {
   "cell_type": "code",
   "execution_count": 2,
   "metadata": {},
   "outputs": [
    {
     "name": "stdout",
     "output_type": "stream",
     "text": [
      "땡!\n",
      "땡!\n",
      "땡!\n",
      "땡!\n",
      "땡!\n",
      "정답\n"
     ]
    }
   ],
   "source": [
    "import random\n",
    "\n",
    "num = random.randint(1,10)\n",
    "while (1) :\n",
    "  A = int(input(\"숫자\"))\n",
    "  if A == num :\n",
    "    print(\"정답\")\n",
    "    break\n",
    "  else :\n",
    "    print(\"땡!\")\n",
    "\n",
    "    "
   ]
  },
  {
   "cell_type": "code",
   "execution_count": 46,
   "metadata": {},
   "outputs": [
    {
     "name": "stdout",
     "output_type": "stream",
     "text": [
      "[16, 21, 37, 2, 14, 18]\n"
     ]
    }
   ],
   "source": [
    "import random\n",
    "\n",
    "num = []\n",
    "while (len(num)<= 5) :\n",
    "  B = random.randint(1,45)\n",
    "  if B not in num:\n",
    "    num.append(B)\n",
    "    \n",
    "print(num)"
   ]
  },
  {
   "cell_type": "code",
   "execution_count": null,
   "metadata": {},
   "outputs": [],
   "source": [
    "#정수랑, 소수랑 컴퓨터가 표현하는 방식이 다름, 키워드는 부동소수점 (숙제)\n",
    "#1.9 -> 1.10011.41 -> 1.100 1\n",
    "#부동소수점 표현 방식은 고정소수점 표현 방식에 비해서 비트 수 대비 표현 가능한 수의 범위와 정밀도 측면에서 우위에 있기 때문에,\n",
    "#정규화니 bias니 하는 복잡한 과정이 들어감에도 불구하고 현재 대부분의 컴퓨터 시스템에서 부동소수점을 이용해 실수를 표현하고 있다."
   ]
  }
 ],
 "metadata": {
  "kernelspec": {
   "display_name": "base",
   "language": "python",
   "name": "python3"
  },
  "language_info": {
   "codemirror_mode": {
    "name": "ipython",
    "version": 3
   },
   "file_extension": ".py",
   "mimetype": "text/x-python",
   "name": "python",
   "nbconvert_exporter": "python",
   "pygments_lexer": "ipython3",
   "version": "3.11.5"
  }
 },
 "nbformat": 4,
 "nbformat_minor": 2
}
