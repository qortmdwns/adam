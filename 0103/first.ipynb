{
 "cells": [
  {
   "cell_type": "code",
   "execution_count": 3,
   "metadata": {},
   "outputs": [
    {
     "name": "stdout",
     "output_type": "stream",
     "text": [
      "abc\n"
     ]
    }
   ],
   "source": [
    "list_=list(\"abc\")\n",
    "\n",
    "list_=list(\"abc\")\n",
    "tuple_=(1,2,3)\n",
    "\n",
    "mystr =\"\"\n",
    "for str in list_:\n",
    "   mystr = mystr + str\n",
    "\n",
    "print(mystr)"
   ]
  },
  {
   "cell_type": "code",
   "execution_count": 17,
   "metadata": {},
   "outputs": [
    {
     "name": "stdout",
     "output_type": "stream",
     "text": [
      "apei e\n",
      "1086420"
     ]
    }
   ],
   "source": [
    "mystr = \"apple is red\"\n",
    "\n",
    "print(mystr[0:13:2])\n",
    "\n",
    "\n",
    "\n",
    "\n",
    "for i in range(10,-1,-2):\n",
    "  print(i,end=\"\")"
   ]
  },
  {
   "cell_type": "code",
   "execution_count": 3,
   "metadata": {},
   "outputs": [
    {
     "name": "stdout",
     "output_type": "stream",
     "text": [
      "21\n"
     ]
    }
   ],
   "source": [
    "a = int(input(\"숫자\"))\n",
    "\n",
    "sum=0\n",
    "for i in range(a+1):\n",
    "    sum=sum+i\n",
    "  \n",
    "print(sum)"
   ]
  },
  {
   "cell_type": "code",
   "execution_count": 2,
   "metadata": {},
   "outputs": [
    {
     "ename": "SyntaxError",
     "evalue": "invalid syntax (3227280179.py, line 3)",
     "output_type": "error",
     "traceback": [
      "\u001b[1;36m  Cell \u001b[1;32mIn[2], line 3\u001b[1;36m\u001b[0m\n\u001b[1;33m    sum =\u001b[0m\n\u001b[1;37m          ^\u001b[0m\n\u001b[1;31mSyntaxError\u001b[0m\u001b[1;31m:\u001b[0m invalid syntax\n"
     ]
    }
   ],
   "source": [
    "a = int(input(\"숫자\"))\n",
    "\n",
    "sum = "
   ]
  },
  {
   "cell_type": "code",
   "execution_count": 7,
   "metadata": {},
   "outputs": [
    {
     "name": "stdout",
     "output_type": "stream",
     "text": [
      "5 4 3 2 1 발사!!\n"
     ]
    }
   ],
   "source": [
    "a = int(input(\"몇 초?\"))\n",
    "\n",
    "for i in range(a,0,-1):\n",
    "  print(i,end=\" \")\n",
    "\n",
    "print(\"발사!!\")"
   ]
  },
  {
   "cell_type": "code",
   "execution_count": 33,
   "metadata": {},
   "outputs": [
    {
     "name": "stdout",
     "output_type": "stream",
     "text": [
      "3*1 = 3\n",
      "3*2 = 6\n",
      "3*3 = 9\n",
      "3*4 = 12\n",
      "3*5 = 15\n",
      "3*6 = 18\n",
      "3*7 = 21\n",
      "3*8 = 24\n",
      "3*9 = 27\n"
     ]
    }
   ],
   "source": [
    "a = int(input(\"숫자\"))\n",
    "\n",
    "for i in range(1,10):\n",
    "  print(f\"{a}*{i} = {a*i}\")  "
   ]
  },
  {
   "cell_type": "code",
   "execution_count": 41,
   "metadata": {},
   "outputs": [
    {
     "name": "stdout",
     "output_type": "stream",
     "text": [
      "y: 0, x: 0 = 0\n",
      "y: 0, x: 1 = 0\n",
      "\n",
      "y: 1, x: 0 = 0\n",
      "y: 1, x: 1 = 1\n",
      "\n",
      "y: 2, x: 0 = 0\n",
      "y: 2, x: 1 = 2\n",
      "\n"
     ]
    }
   ],
   "source": [
    "for y in range(3):\n",
    "  for x in range(2):\n",
    "    print(f\"y: {y}, x: {x} = {y*x}\")\n",
    "  print()"
   ]
  },
  {
   "cell_type": "code",
   "execution_count": 45,
   "metadata": {},
   "outputs": [
    {
     "name": "stdout",
     "output_type": "stream",
     "text": [
      "1*1 = 1\n",
      "1*2 = 2\n",
      "1*3 = 3\n",
      "1*4 = 4\n",
      "1*5 = 5\n",
      "1*6 = 6\n",
      "1*7 = 7\n",
      "1*8 = 8\n",
      "1*9 = 9\n",
      "\n",
      "2*1 = 2\n",
      "2*2 = 4\n",
      "2*3 = 6\n",
      "2*4 = 8\n",
      "2*5 = 10\n",
      "2*6 = 12\n",
      "2*7 = 14\n",
      "2*8 = 16\n",
      "2*9 = 18\n",
      "\n",
      "3*1 = 3\n",
      "3*2 = 6\n",
      "3*3 = 9\n",
      "3*4 = 12\n",
      "3*5 = 15\n",
      "3*6 = 18\n",
      "3*7 = 21\n",
      "3*8 = 24\n",
      "3*9 = 27\n",
      "\n",
      "4*1 = 4\n",
      "4*2 = 8\n",
      "4*3 = 12\n",
      "4*4 = 16\n",
      "4*5 = 20\n",
      "4*6 = 24\n",
      "4*7 = 28\n",
      "4*8 = 32\n",
      "4*9 = 36\n",
      "\n",
      "5*1 = 5\n",
      "5*2 = 10\n",
      "5*3 = 15\n",
      "5*4 = 20\n",
      "5*5 = 25\n",
      "5*6 = 30\n",
      "5*7 = 35\n",
      "5*8 = 40\n",
      "5*9 = 45\n",
      "\n",
      "6*1 = 6\n",
      "6*2 = 12\n",
      "6*3 = 18\n",
      "6*4 = 24\n",
      "6*5 = 30\n",
      "6*6 = 36\n",
      "6*7 = 42\n",
      "6*8 = 48\n",
      "6*9 = 54\n",
      "\n",
      "7*1 = 7\n",
      "7*2 = 14\n",
      "7*3 = 21\n",
      "7*4 = 28\n",
      "7*5 = 35\n",
      "7*6 = 42\n",
      "7*7 = 49\n",
      "7*8 = 56\n",
      "7*9 = 63\n",
      "\n",
      "8*1 = 8\n",
      "8*2 = 16\n",
      "8*3 = 24\n",
      "8*4 = 32\n",
      "8*5 = 40\n",
      "8*6 = 48\n",
      "8*7 = 56\n",
      "8*8 = 64\n",
      "8*9 = 72\n",
      "\n",
      "9*1 = 9\n",
      "9*2 = 18\n",
      "9*3 = 27\n",
      "9*4 = 36\n",
      "9*5 = 45\n",
      "9*6 = 54\n",
      "9*7 = 63\n",
      "9*8 = 72\n",
      "9*9 = 81\n",
      "\n"
     ]
    }
   ],
   "source": [
    "for y in range(1,10):\n",
    "  for x in range(1,10):\n",
    "    print(f\"{y}*{x} = {y*x}\")\n",
    "  print()"
   ]
  },
  {
   "cell_type": "code",
   "execution_count": 9,
   "metadata": {},
   "outputs": [
    {
     "name": "stdout",
     "output_type": "stream",
     "text": [
      "짬뽀\n"
     ]
    }
   ],
   "source": [
    "while True:\n",
    "  launch = input(\"뭐먹을래?\")\n",
    "  \n",
    "  break\n",
    "print(launch)"
   ]
  },
  {
   "cell_type": "code",
   "execution_count": 12,
   "metadata": {},
   "outputs": [
    {
     "name": "stdout",
     "output_type": "stream",
     "text": [
      "*\n",
      "**\n",
      "***\n",
      "****\n",
      "*****\n"
     ]
    }
   ],
   "source": [
    "a = int(input(\"별\"))\n",
    "\n",
    "for i in range(1,a+1):\n",
    "  for p in range(i):\n",
    "    \n",
    "    print(\"*\", end=\"\")\n",
    "  print() \n",
    "\n"
   ]
  },
  {
   "cell_type": "code",
   "execution_count": 11,
   "metadata": {},
   "outputs": [
    {
     "ename": "ValueError",
     "evalue": "max() arg is an empty sequence",
     "output_type": "error",
     "traceback": [
      "\u001b[1;31m---------------------------------------------------------------------------\u001b[0m",
      "\u001b[1;31mValueError\u001b[0m                                Traceback (most recent call last)",
      "Cell \u001b[1;32mIn[11], line 5\u001b[0m\n\u001b[0;32m      1\u001b[0m my_list \u001b[38;5;241m=\u001b[39m (\u001b[38;5;28minput\u001b[39m(\u001b[38;5;124m\"\u001b[39m\u001b[38;5;124m점수\u001b[39m\u001b[38;5;124m\"\u001b[39m))\n\u001b[0;32m      3\u001b[0m my_list \u001b[38;5;241m=\u001b[39m my_list\u001b[38;5;241m.\u001b[39msplit()\n\u001b[1;32m----> 5\u001b[0m a \u001b[38;5;241m=\u001b[39m \u001b[38;5;28mmax\u001b[39m(my_list)\n\u001b[0;32m      6\u001b[0m \u001b[38;5;28mprint\u001b[39m(a)\n\u001b[0;32m      7\u001b[0m b \u001b[38;5;241m=\u001b[39m \u001b[38;5;28mmin\u001b[39m(my_list)\n",
      "\u001b[1;31mValueError\u001b[0m: max() arg is an empty sequence"
     ]
    }
   ],
   "source": [
    "my_list = (input(\"점수\"))\n",
    "\n",
    "my_list = my_list.split()\n",
    "\n",
    "a = max(my_list)\n",
    "print(a)\n",
    "b = min(my_list)\n",
    "print(b)\n",
    "my_list.remove(a)\n",
    "my_list.remove(b)\n",
    "sum = 0\n",
    "for i in my_list:\n",
    "  c = int(i)\n",
    "  sum = sum + c\n",
    "print(sum)\n",
    "\n",
    "mean = sum / len(my_list)\n",
    "print(mean)"
   ]
  },
  {
   "cell_type": "code",
   "execution_count": 80,
   "metadata": {},
   "outputs": [
    {
     "name": "stdout",
     "output_type": "stream",
     "text": [
      "[12.0, 15.0]\n"
     ]
    }
   ],
   "source": [
    "a = (\"12\",\"15\")\n",
    "b = list(map(float,a))\n",
    "print(b)\n",
    "\n"
   ]
  },
  {
   "cell_type": "code",
   "execution_count": 12,
   "metadata": {},
   "outputs": [
    {
     "name": "stdout",
     "output_type": "stream",
     "text": [
      "[1, 2, 3, 4, 5, 6, 7, 8, 9, 10]\n",
      "[1, 3, 5, 7, 9]\n",
      "[2, 4, 6, 8, 10]\n"
     ]
    }
   ],
   "source": [
    "n = int(input(\"정수\"))\n",
    "\n",
    "c = []\n",
    "for i in range(1,n + 1):\n",
    "  c.append(i)\n",
    "print(c)\n",
    "\n",
    "hole = c[::2]\n",
    "jjack = c[1::2]\n",
    "\n",
    "print(hole)\n",
    "print(jjack)\n",
    "  "
   ]
  },
  {
   "cell_type": "code",
   "execution_count": 100,
   "metadata": {},
   "outputs": [
    {
     "name": "stdout",
     "output_type": "stream",
     "text": [
      "지금 없네요\n"
     ]
    }
   ],
   "source": [
    "vending_machine = [\"게토레이\",\"레쓰비\", \"생수\",\"이프로\"]\n",
    "\n",
    "a = input(\"마시고 싶은 음료\")\n",
    "if a in vending_machine:\n",
    "  print(f\"{a}드릴게요\")\n",
    "else:\n",
    "  print(f\"{a}지금 없네요\")"
   ]
  },
  {
   "cell_type": "code",
   "execution_count": 109,
   "metadata": {},
   "outputs": [
    {
     "name": "stdout",
     "output_type": "stream",
     "text": [
      "남은 음료:['게토레이', '게토레이', '레쓰비', '레쓰비', '생수', '생수', '이프로', '이프로']\n",
      "커피지금 없음\n",
      "남음 음료['게토레이', '게토레이', '레쓰비', '레쓰비', '생수', '생수', '이프로', '이프로']\n"
     ]
    }
   ],
   "source": [
    "vending_machine = [\"게토레이\", \"게토레이\", \"레쓰비\", \"레쓰비\", \"생수\", \"생수\", \"이프로\", \"이프로\"]\n",
    "\n",
    "a  = input(\"주인 or 소비자\")\n",
    "print(f\"남은 음료:{vending_machine}\")\n",
    "if a == \"소비자\":\n",
    "  b = input(\"원하는 음료\")\n",
    "  if b in vending_machine:\n",
    "    vending_machine.remove(b)\n",
    "    print(f\"읏차\")\n",
    "  else:\n",
    "    print(f\"없음\")\n",
    "elif a == \"주인\":\n",
    "  y_n = input(\"추가 or 삭제\")\n",
    "  if y_n == \"추가\":\n",
    "    addd = input(\"추가 음료\")\n",
    "    vending_machine.append(addd)\n",
    "  elif y_n == \"삭제\":\n",
    "    dell = input(\"삭제 음료\")\n",
    "    if dell in vending_machine:\n",
    "      vending_machine.remove(dell)\n",
    "    else:\n",
    "      print(f\"{dell}지금 없음\")\n",
    "  else:\n",
    "    print(\"없음\")\n",
    "else:\n",
    "  print(\"없음\")\n",
    "print(f\"남음 음료{vending_machine}\")\n",
    "      \n"
   ]
  },
  {
   "cell_type": "code",
   "execution_count": 112,
   "metadata": {},
   "outputs": [
    {
     "name": "stdout",
     "output_type": "stream",
     "text": [
      "[1, 2, 'fizz', 4, 'buzz', 'fizz', 7, 8, 'fizz', 'buzz', 11, 'fizz', 13, 14, 'fizzbuzz']\n"
     ]
    }
   ],
   "source": [
    "n = int(input(\"숫자\"))\n",
    "nn = []\n",
    "for i in range(1,n+1):\n",
    "  if i%3 == 0 and i%5 == 0:\n",
    "    nn.append(\"fizzbuzz\")\n",
    "  elif i%3 == 0:\n",
    "    nn.append(\"fizz\")\n",
    "  elif i%5 == 0:\n",
    "    nn.append(\"buzz\")\n",
    "  else:\n",
    "    nn.append(i)\n",
    "print(nn)\n",
    "\n",
    "\n"
   ]
  },
  {
   "cell_type": "code",
   "execution_count": 20,
   "metadata": {},
   "outputs": [
    {
     "name": "stdout",
     "output_type": "stream",
     "text": [
      "['도파', '랄로', '파카']\n",
      "[11, 12, 13]\n",
      "나이 평균:12.0\n",
      "파카\n",
      "{'도파': 11, '랄로': 12, '괴물쥐': 14}\n",
      "없음\n"
     ]
    }
   ],
   "source": [
    "star = {\"도파\":11,\"랄로\":12,\"파카\":13}\n",
    "star_key = list(star.keys())\n",
    "print(star_key)\n",
    "star_value = list(star.values())\n",
    "print(star_value)\n",
    "\n",
    "sum = 0\n",
    "for i in star_value:\n",
    "  sum+= i\n",
    "\n",
    "avg_value = sum/len(star_value)\n",
    "print(f\"나이 평균:{avg_value}\")\n",
    "\n",
    "max_star = max(star,key = star.get)\n",
    "star.pop(max_star)\n",
    "print(max_star)\n",
    "\n",
    "star[\"괴물쥐\"] = 14\n",
    "print(star)\n",
    "\n",
    "if \"페이커\" in star:\n",
    "  print(\"존재\")\n",
    "else:\n",
    "  print(\"없음\")\n",
    "\n"
   ]
  }
 ],
 "metadata": {
  "kernelspec": {
   "display_name": "base",
   "language": "python",
   "name": "python3"
  },
  "language_info": {
   "codemirror_mode": {
    "name": "ipython",
    "version": 3
   },
   "file_extension": ".py",
   "mimetype": "text/x-python",
   "name": "python",
   "nbconvert_exporter": "python",
   "pygments_lexer": "ipython3",
   "version": "3.11.5"
  }
 },
 "nbformat": 4,
 "nbformat_minor": 2
}
