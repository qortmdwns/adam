{
 "cells": [
  {
   "cell_type": "code",
   "execution_count": 24,
   "metadata": {},
   "outputs": [
    {
     "name": "stdout",
     "output_type": "stream",
     "text": [
      "{'apple': 5, 'orange': 9}\n"
     ]
    }
   ],
   "source": [
    "my_dict = {\"apple\" : 5, \"banana\" : 2, \"orange\" : 9, \"kiwi\" : 3}\n",
    "new_dict = {key : value for (key,value) in my_dict.items() if value >= 5}\n",
    "print(new_dict)\n",
    "\n"
   ]
  },
  {
   "cell_type": "code",
   "execution_count": 26,
   "metadata": {},
   "outputs": [
    {
     "data": {
      "text/plain": [
       "13"
      ]
     },
     "execution_count": 26,
     "metadata": {},
     "output_type": "execute_result"
    }
   ],
   "source": [
    "Add = lambda x,y : x + y\n",
    "Add(5,8)"
   ]
  },
  {
   "cell_type": "code",
   "execution_count": null,
   "metadata": {},
   "outputs": [],
   "source": [
    "#property\n",
    "# .__() = private #클래스 안에서만 사용 가능\n",
    "\n",
    "\n"
   ]
  },
  {
   "cell_type": "code",
   "execution_count": 29,
   "metadata": {},
   "outputs": [],
   "source": [
    "class Country :\n",
    "  def __init__(self):\n",
    "    self.name = \"나라이름\"\n",
    "    self.population = \"인구\"\n",
    "    self.capital = \"수도\"\n",
    "\n",
    "  def show(self) :\n",
    "    print(\"국가 클래스의 메소드입니다.\")\n",
    "\n",
    "class Korea(Country) :\n",
    "  def __init__(self, name, population, capital) :\n",
    "    self.name = name\n",
    "    self.population = population\n",
    "    self.capital = capital\n",
    "\n",
    "  def show_detail(self):\n",
    "    print(f\"국가의 이름은 {self.name}, 인구는{self.population}, 수도는{self.capital}입니다.\")\n",
    "    Country = Korea(\"대한민국\", \"5천만\", \"서울\")\n",
    "    Country.show_detail()\n",
    "    \n"
   ]
  },
  {
   "cell_type": "code",
   "execution_count": 34,
   "metadata": {},
   "outputs": [
    {
     "name": "stdout",
     "output_type": "stream",
     "text": [
      "bossbaby\n",
      "보스아이\n"
     ]
    }
   ],
   "source": [
    "# movie 전체 \n",
    "class Movie:\n",
    "  count = 0\n",
    "  def __init__(self, title, audience):\n",
    "    self.__title = title\n",
    "    self.audience = audience\n",
    "    Movie.count +=1\n",
    "    \n",
    "  def get_title(self):\n",
    "    return self.__title\n",
    "  \n",
    "  def set_title(self, title):\n",
    "    self.__title =title\n",
    "    \n",
    "movie1 = Movie(\"bossbaby\", 100)\n",
    "\n",
    "\n",
    "print(movie1.get_title())\n",
    "movie1.set_title(\"보스아이\")\n",
    "print(movie1.get_title())"
   ]
  },
  {
   "cell_type": "code",
   "execution_count": 35,
   "metadata": {},
   "outputs": [
    {
     "name": "stdout",
     "output_type": "stream",
     "text": [
      "{'make': 'tesla', 'model': 'r99', 'year': '2000', 'color': 'red'}\n"
     ]
    }
   ],
   "source": [
    "class Car:\n",
    "    def __init__(self, make, model, year, color):\n",
    "        self.make = make      # 제조사\n",
    "        self.model = model    # 모델\n",
    "        self.year = year      # 제조년도\n",
    "        self.color = color    # 색상\n",
    "        \n",
    "        \n",
    "tesla = Car('tesla','r99','2000','red')\n",
    "print(vars(tesla)) # attribute를 알아내기"
   ]
  },
  {
   "cell_type": "code",
   "execution_count": 36,
   "metadata": {},
   "outputs": [
    {
     "name": "stdout",
     "output_type": "stream",
     "text": [
      "55\n"
     ]
    }
   ],
   "source": [
    "# 체인메소드 \n",
    "class Chainable:\n",
    "    def __init__(self, value=0):\n",
    "        self.value = value\n",
    "\n",
    "    def add(self, x):\n",
    "        self.value += x\n",
    "        return self  # 자기 자신을 리턴하여 메소드 체인을 지원\n",
    "\n",
    "    def multiply(self, y):\n",
    "        self.value *= y\n",
    "        return self\n",
    "\n",
    "    def get_result(self):\n",
    "        return self.value\n",
    "\n",
    "# 객체 생성\n",
    "obj = Chainable()\n",
    "\n",
    "# 메소드 체인을 통한 호출\n",
    "result = obj.add(5).multiply(3).add(10).get_result()\n",
    "\n",
    "print(result)  # 출력: 25 ( (0+5)*3+10 )"
   ]
  },
  {
   "cell_type": "code",
   "execution_count": 38,
   "metadata": {},
   "outputs": [
    {
     "name": "stdout",
     "output_type": "stream",
     "text": [
      "0x2840dff0900\n",
      "===========================\n",
      "0x2840dff3900\n",
      "===========================\n",
      "저는 MF 포지션입니다.\n",
      "0x7ffa96796af0\n",
      "===========================\n",
      "저는 DF 포지션입니다.\n",
      "0x7ffa96796af0\n",
      "===========================\n"
     ]
    },
    {
     "ename": "TypeError",
     "evalue": "'str' object is not callable",
     "output_type": "error",
     "traceback": [
      "\u001b[1;31m---------------------------------------------------------------------------\u001b[0m",
      "\u001b[1;31mTypeError\u001b[0m                                 Traceback (most recent call last)",
      "Cell \u001b[1;32mIn[38], line 32\u001b[0m\n\u001b[0;32m     29\u001b[0m \u001b[38;5;28mprint\u001b[39m(\u001b[38;5;28mhex\u001b[39m(\u001b[38;5;28mid\u001b[39m(ronaldo\u001b[38;5;241m.\u001b[39mInfo_Pos())))\n\u001b[0;32m     30\u001b[0m \u001b[38;5;28mprint\u001b[39m(\u001b[38;5;124m\"\u001b[39m\u001b[38;5;124m===========================\u001b[39m\u001b[38;5;124m\"\u001b[39m)\n\u001b[1;32m---> 32\u001b[0m \u001b[38;5;28mprint\u001b[39m(\u001b[38;5;28mhex\u001b[39m(\u001b[38;5;28mid\u001b[39m(messi\u001b[38;5;241m.\u001b[39mage())))\n\u001b[0;32m     33\u001b[0m \u001b[38;5;28mprint\u001b[39m(\u001b[38;5;28mhex\u001b[39m(\u001b[38;5;28mid\u001b[39m(ronaldo\u001b[38;5;241m.\u001b[39mage())))\n",
      "\u001b[1;31mTypeError\u001b[0m: 'str' object is not callable"
     ]
    }
   ],
   "source": [
    "class FB_Player: # initialize\n",
    "  def __init__(self,myname,age,backnumber,position,club):\n",
    "    self.name = myname\n",
    "    self.age = age\n",
    "    self.backnumber = backnumber\n",
    "    self.position = position\n",
    "    self.club = club\n",
    "    \n",
    "  def Info_Pos(self): \n",
    "    print(f\"저는 {self.position} 포지션입니다.\")\n",
    "    \n",
    "    \n",
    "\n",
    "messi = FB_Player(\"messi\",\"35\",\"10\",\"MF\",\"마이애미\")\n",
    "\n",
    "ronaldo = FB_Player(\"ronaldo\",\"40\",\"11\",\"DF\",\"한국\")\n",
    "\n",
    "\n",
    "print(hex(id(messi.Info_Pos)))\n",
    "print(\"===========================\")\n",
    "\n",
    "print(hex(id(ronaldo.Info_Pos)))\n",
    "print(\"===========================\")\n",
    "\n",
    "\n",
    "print(hex(id(messi.Info_Pos())))\n",
    "print(\"===========================\")\n",
    "\n",
    "print(hex(id(ronaldo.Info_Pos())))\n",
    "print(\"===========================\")\n",
    "\n",
    "print(hex(id(messi.age)))\n",
    "print(hex(id(ronaldo.age)))"
   ]
  },
  {
   "cell_type": "code",
   "execution_count": 52,
   "metadata": {},
   "outputs": [
    {
     "name": "stdout",
     "output_type": "stream",
     "text": [
      "0.01\n"
     ]
    },
    {
     "data": {
      "text/plain": [
       "('Bow', None, 100)"
      ]
     },
     "execution_count": 52,
     "metadata": {},
     "output_type": "execute_result"
    }
   ],
   "source": [
    "class Item:\n",
    "    def __init__(self, Iprice=None, Itype=None):\n",
    "        self.__Iprice = Iprice\n",
    "        self.Itype = Itype\n",
    "\n",
    "    def getIprice(self):\n",
    "        return self.__Iprice  # 값을 반환하는 것이 더 적절할 것입니다.\n",
    "\n",
    "class Weapon(Item):\n",
    "    def __init__(self, Iprice=None, Itype=None, dropRate=0):\n",
    "        super().__init__(Iprice, Itype)  # Item 클래스의 생성자 호출\n",
    "        self.__dropRate = dropRate\n",
    "\n",
    "    def setDropRate(self, dropRate):\n",
    "        self.__dropRate = dropRate\n",
    "    def getDropRate(self):\n",
    "        print(self.__dropRate)\n",
    "\n",
    "myBow = Weapon(100, 'Bow', 0.01)  # Item 클래스의 생성자와 Weapon 클래스의 생성자에 필요한 인자를 제공\n",
    "\n",
    "myBow.Itype,myBow.getDropRate(),myBow.getIprice()\n"
   ]
  },
  {
   "cell_type": "code",
   "execution_count": 115,
   "metadata": {},
   "outputs": [
    {
     "data": {
      "text/plain": [
       "('칼', '남자', '페이커')"
      ]
     },
     "execution_count": 115,
     "metadata": {},
     "output_type": "execute_result"
    }
   ],
   "source": [
    "class Game :\n",
    "  def __init__(self, Cex, Item, Map) :\n",
    "    self.__Cex = Cex\n",
    "    self.__Item = Item\n",
    "    self.__Map = Map\n",
    "\n",
    "  def getCex(self) :\n",
    "    return self.__Cex\n",
    "  def getItem(self) :\n",
    "    return self.__Item\n",
    "  def getMap(self) :\n",
    "    return self.__Map\n",
    "  \n",
    "class Play(Game) :\n",
    "  def __init__(self, Cex, Item, Map, Player) :\n",
    "    super().__init__(Cex, Item, Map)\n",
    "    self.Player = Player\n",
    "  def setItem(self, Item) :\n",
    "    self.__Item = Item\n",
    "  def getItemd(self) :\n",
    "    print(self.__Item) \n",
    "  def setMap(self, Map) :\n",
    "    self.__Map = Map\n",
    "  def getMap(self) :\n",
    "    print(self.__Map) \n",
    "  \n",
    "    \n",
    "\n",
    "  \n",
    "\n",
    "Box = Play(\"남자\", \"칼\", \"협곡\", \"페이커\")\n",
    "\n",
    "Box.getItem(),Box.getCex(),Box.Player\n",
    "\n",
    "\n",
    "\n",
    "    "
   ]
  },
  {
   "cell_type": "code",
   "execution_count": 355,
   "metadata": {},
   "outputs": [
    {
     "name": "stdout",
     "output_type": "stream",
     "text": [
      "랄로\n",
      "exp가50.0만큼 올랐습니다.\n",
      "exp가100.0만큼 올랐습니다.\n",
      "레벨2으로 업.\n",
      "hp가 22로 올랐습니다.\n",
      "exp가25.0만큼 올랐습니다.\n",
      "exp가50.0만큼 올랐습니다.\n",
      "exp가75.0만큼 올랐습니다.\n",
      "exp가100.0만큼 올랐습니다.\n",
      "레벨3으로 업.\n",
      "hp가 25로 올랐습니다.\n",
      "랄로의 활과 파카의 칼이 교환되었습니다.\n"
     ]
    }
   ],
   "source": [
    "import random\n",
    "class char :\n",
    "  def __init__ (self,name,level,hp) :\n",
    "    self.__name = name\n",
    "    self.level = level\n",
    "    self.hp = hp\n",
    "    self.hp_max = self.hp\n",
    "  def getname(self) :\n",
    "    return self.__name\n",
    "class play(char) :\n",
    "  def __init__ (self,name,level,hp,A,B,traid) :  \n",
    "    super().__init__(name,level,hp)\n",
    "    self.__name = name\n",
    "    self.__A = A\n",
    "    self.__B = B\n",
    "    self.traid = traid\n",
    "    self.exp = 0\n",
    "  def getname(self) :\n",
    "    print(self.__name) \n",
    "  def war(self) :\n",
    "    self.monster_name = \"dragon\"\n",
    "    self.monster_level = 1\n",
    "    self.monster_hp = 5\n",
    "    self.monster_exp = 50\n",
    "    fight = [0,1]\n",
    "    \n",
    "    while (self.hp > 0 and self.monster_hp > 0 ) :\n",
    "      random.shuffle(fight) \n",
    "      if fight[0] == 0 :\n",
    "        self.monster_hp -= self.hp\n",
    "        if self.monster_hp <= 0 :\n",
    "          self.exp += (self.monster_exp / self.level)\n",
    "          print(f\"exp가{self.exp}만큼 올랐습니다.\")\n",
    "        if self.exp >= 100 :\n",
    "          self.level_up()\n",
    "      else :\n",
    "        self.hp -= self.monster_hp\n",
    "        if self.hp <= 0:\n",
    "          print(f\"{self.__name}님이 {self.monster_name}에게 죽으셨습니다.\")   \n",
    "  def level_up(self) :\n",
    "    self.level += 1\n",
    "    self.hp = self.hp_max + self.level\n",
    "    self.hp_max = self.hp\n",
    "    self.exp = 0\n",
    "    print(f\"레벨{self.level}으로 업.\")\n",
    "    print(f\"hp가 {self.hp}로 올랐습니다.\")\n",
    "  def traid_each(self) :\n",
    "    if self.traid == \"교환\" :\n",
    "      C = 0\n",
    "      C = self.__A\n",
    "      self.__A = self.__B\n",
    "      self.__B = C\n",
    "      print(f\"{self.__name}의 {self.__A}과 파카의 {self.__B}이 교환되었습니다.\")\n",
    "    else :\n",
    "      print(\"교환되지 않았습니다.\")\n",
    "\n",
    "\n",
    "box = play(\"랄로\", 1, 20, \"칼\", \"활\", \"교환\" )\n",
    "box.getname()\n",
    "for i in range(6) :\n",
    "  box.war()\n",
    "box.traid_each()\n"
   ]
  },
  {
   "cell_type": "code",
   "execution_count": 1,
   "metadata": {},
   "outputs": [],
   "source": []
  }
 ],
 "metadata": {
  "kernelspec": {
   "display_name": "base",
   "language": "python",
   "name": "python3"
  },
  "language_info": {
   "codemirror_mode": {
    "name": "ipython",
    "version": 3
   },
   "file_extension": ".py",
   "mimetype": "text/x-python",
   "name": "python",
   "nbconvert_exporter": "python",
   "pygments_lexer": "ipython3",
   "version": "3.11.5"
  }
 },
 "nbformat": 4,
 "nbformat_minor": 2
}
