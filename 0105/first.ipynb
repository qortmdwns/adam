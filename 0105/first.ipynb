{
 "cells": [
  {
   "cell_type": "code",
   "execution_count": 11,
   "metadata": {},
   "outputs": [],
   "source": [
    "num = input(\"숫자\")\n",
    "\n",
    "i = 0  \n",
    "def countzero() :\n",
    "  count = 0\n",
    "  for i in range(len(num)) :\n",
    "    if num[i] == \"0\" :\n",
    "      count += 1\n",
    "    else:\n",
    "      return count\n",
    "countzero()\n",
    "\n",
    "\n"
   ]
  },
  {
   "cell_type": "code",
   "execution_count": 13,
   "metadata": {},
   "outputs": [
    {
     "data": {
      "text/plain": [
       "7"
      ]
     },
     "execution_count": 13,
     "metadata": {},
     "output_type": "execute_result"
    }
   ],
   "source": [
    "num = \"12300123000341400000001010230231\"\n",
    "\n",
    "i = 0\n",
    "def countzero() :\n",
    "  zero = []\n",
    "  count = 0\n",
    "  for i in range(len(num)) :\n",
    "    if num[i] == \"0\" :\n",
    "      count += 1\n",
    "    else :\n",
    "      zero.append(count)\n",
    "      count = 0\n",
    "  return max(zero)\n",
    "countzero()\n",
    "      "
   ]
  },
  {
   "cell_type": "code",
   "execution_count": 21,
   "metadata": {},
   "outputs": [],
   "source": [
    "#A = \"abc cc d effd\"\n",
    "\n",
    "#B = A.replace(\"c\",\"ch\")\n",
    "#B.split(\"h\")\n",
    "#['abc', ' c', 'c', ' d effd']\n",
    "\n",
    "A = \"abc cc d effd\"\n",
    "\n",
    "A.split()\n",
    "B = A.split(\"c\")\n"
   ]
  },
  {
   "cell_type": "code",
   "execution_count": 27,
   "metadata": {},
   "outputs": [
    {
     "name": "stdout",
     "output_type": "stream",
     "text": [
      "[9, 16]\n"
     ]
    }
   ],
   "source": [
    "mylist = [1,2,3,4]\n",
    "\n",
    "A = [i**2 for i in mylist if i >= 3]\n",
    "print(A)"
   ]
  },
  {
   "cell_type": "code",
   "execution_count": 31,
   "metadata": {},
   "outputs": [
    {
     "ename": "TypeError",
     "evalue": "list.append() takes exactly one argument (0 given)",
     "output_type": "error",
     "traceback": [
      "\u001b[1;31m---------------------------------------------------------------------------\u001b[0m",
      "\u001b[1;31mTypeError\u001b[0m                                 Traceback (most recent call last)",
      "Cell \u001b[1;32mIn[31], line 3\u001b[0m\n\u001b[0;32m      1\u001b[0m mystr \u001b[38;5;241m=\u001b[39m \u001b[38;5;124m\"\u001b[39m\u001b[38;5;124mhello world\u001b[39m\u001b[38;5;124m\"\u001b[39m\n\u001b[1;32m----> 3\u001b[0m [B\u001b[38;5;241m.\u001b[39mappend() \u001b[38;5;28;01mfor\u001b[39;00m item \u001b[38;5;129;01min\u001b[39;00m mystr \u001b[38;5;28;01mif\u001b[39;00m item \u001b[38;5;241m!=\u001b[39m \u001b[38;5;124m\"\u001b[39m\u001b[38;5;124ml\u001b[39m\u001b[38;5;124m\"\u001b[39m ]\n",
      "Cell \u001b[1;32mIn[31], line 3\u001b[0m, in \u001b[0;36m<listcomp>\u001b[1;34m(.0)\u001b[0m\n\u001b[0;32m      1\u001b[0m mystr \u001b[38;5;241m=\u001b[39m \u001b[38;5;124m\"\u001b[39m\u001b[38;5;124mhello world\u001b[39m\u001b[38;5;124m\"\u001b[39m\n\u001b[1;32m----> 3\u001b[0m [B\u001b[38;5;241m.\u001b[39mappend() \u001b[38;5;28;01mfor\u001b[39;00m item \u001b[38;5;129;01min\u001b[39;00m mystr \u001b[38;5;28;01mif\u001b[39;00m item \u001b[38;5;241m!=\u001b[39m \u001b[38;5;124m\"\u001b[39m\u001b[38;5;124ml\u001b[39m\u001b[38;5;124m\"\u001b[39m ]\n",
      "\u001b[1;31mTypeError\u001b[0m: list.append() takes exactly one argument (0 given)"
     ]
    }
   ],
   "source": [
    "mystr = \"hello world\"\n",
    "\n",
    "['abc', ' c', 'c', ' d effd']"
   ]
  },
  {
   "cell_type": "code",
   "execution_count": 32,
   "metadata": {},
   "outputs": [
    {
     "name": "stdout",
     "output_type": "stream",
     "text": [
      "[9, 16]\n"
     ]
    }
   ],
   "source": [
    "mylist=[1,2,3,4]\n",
    "newList = [i**2 for i in mylist if i >= 3]\n",
    "print(newList)"
   ]
  },
  {
   "cell_type": "code",
   "execution_count": 34,
   "metadata": {},
   "outputs": [
    {
     "data": {
      "text/plain": [
       "'heo word'"
      ]
     },
     "execution_count": 34,
     "metadata": {},
     "output_type": "execute_result"
    }
   ],
   "source": [
    "mystr=\"hello world\"\n",
    "\n",
    "B = [i for i in mystr if i != \"l\"]\n",
    "\"\".join(B)"
   ]
  },
  {
   "cell_type": "code",
   "execution_count": 36,
   "metadata": {},
   "outputs": [
    {
     "data": {
      "text/plain": [
       "78.5"
      ]
     },
     "execution_count": 36,
     "metadata": {},
     "output_type": "execute_result"
    }
   ],
   "source": [
    "Add = lambda x : (x**2)*3.14\n",
    "Add(5)"
   ]
  },
  {
   "cell_type": "code",
   "execution_count": 50,
   "metadata": {},
   "outputs": [
    {
     "name": "stdout",
     "output_type": "stream",
     "text": [
      "[0, 1, -1, 2, 3]\n"
     ]
    }
   ],
   "source": [
    "x = [-1,0,1,2,3]\n",
    "\n",
    "Fx = sorted(x,key = lambda x : ((2 * x**3) - (9 * x**2)),reverse = 1)\n",
    "print(Fx)\n"
   ]
  },
  {
   "cell_type": "markdown",
   "metadata": {},
   "source": []
  },
  {
   "cell_type": "code",
   "execution_count": 55,
   "metadata": {},
   "outputs": [
    {
     "name": "stdout",
     "output_type": "stream",
     "text": [
      "avatar영화가 상영중입니다.\n",
      "m_criminal_city영화가 상영중입니다.\n"
     ]
    }
   ],
   "source": [
    "class movie:\n",
    "  def __init__(self,name):\n",
    "    self.name = name\n",
    "  \n",
    "  def ShowMovie(self):\n",
    "    print(f\"{self.name}영화가 상영중입니다.\")\n",
    "\n",
    "m_avatar = movie(\"avatar\")\n",
    "\n",
    "m_avatar.ShowMovie()\n",
    "\n",
    "m_criminal_city = movie(\"m_criminal_city\")\n",
    "\n",
    "m_criminal_city.ShowMovie()"
   ]
  },
  {
   "cell_type": "code",
   "execution_count": 56,
   "metadata": {},
   "outputs": [
    {
     "name": "stdout",
     "output_type": "stream",
     "text": [
      "suddenattack을 플레이 중 입니다.\n",
      "g_battleground을 플레이 중 입니다.\n"
     ]
    }
   ],
   "source": [
    "class game: #클래스 게임\n",
    "  def __init__(self,name):\n",
    "    self.name = name\n",
    "  \n",
    "  def Showgame(self):\n",
    "    print(f\"{self.name}을 플레이 중 입니다.\")\n",
    "\n",
    "g_suddenattack = game(\"suddenattack\") #서든어택\n",
    "\n",
    "g_suddenattack.Showgame()\n",
    "\n",
    "g_battleground = game(\"g_battleground\") #배틀그라운드\n",
    "\n",
    "g_battleground.Showgame()"
   ]
  },
  {
   "cell_type": "code",
   "execution_count": 1,
   "metadata": {},
   "outputs": [
    {
     "name": "stdout",
     "output_type": "stream",
     "text": [
      "9\n"
     ]
    }
   ],
   "source": [
    "class math ():\n",
    "  def __init__(self) :\n",
    "    self.num_1 = int(input())\n",
    "    self.num_2 = int(input())\n",
    "  def add(self) :\n",
    "    return self.num_1 + self.num_2\n",
    "  def sub(self) :\n",
    "    return self.num_1 - self.num_2\n",
    "  def mul(self) :\n",
    "    return self.num_1 * self.num_2\n",
    "  def div(self) :\n",
    "    return self.num_1 / self.num_2\n",
    "\n",
    "math_num = math()\n",
    "print(math_num.add())"
   ]
  },
  {
   "cell_type": "code",
   "execution_count": 3,
   "metadata": {},
   "outputs": [
    {
     "ename": "AttributeError",
     "evalue": "type object 'market' has no attribute 'super_count'",
     "output_type": "error",
     "traceback": [
      "\u001b[1;31m---------------------------------------------------------------------------\u001b[0m",
      "\u001b[1;31mAttributeError\u001b[0m                            Traceback (most recent call last)",
      "Cell \u001b[1;32mIn[3], line 26\u001b[0m\n\u001b[0;32m     23\u001b[0m   \u001b[38;5;28;01mdef\u001b[39;00m \u001b[38;5;21mshow_supermarket_count\u001b[39m(\u001b[38;5;28mself\u001b[39m) : \n\u001b[0;32m     24\u001b[0m     \u001b[38;5;28mprint\u001b[39m(market\u001b[38;5;241m.\u001b[39msuper_count)\n\u001b[1;32m---> 26\u001b[0m store \u001b[38;5;241m=\u001b[39m market(\u001b[38;5;124m\"\u001b[39m\u001b[38;5;124m인천\u001b[39m\u001b[38;5;124m\"\u001b[39m,\u001b[38;5;124m'\u001b[39m\u001b[38;5;124mcu\u001b[39m\u001b[38;5;124m'\u001b[39m,\u001b[38;5;124m'\u001b[39m\u001b[38;5;124m커피\u001b[39m\u001b[38;5;124m'\u001b[39m,\u001b[38;5;241m2\u001b[39m)\n\u001b[0;32m     27\u001b[0m store\u001b[38;5;241m.\u001b[39mprint_location()\n\u001b[0;32m     28\u001b[0m store\u001b[38;5;241m.\u001b[39mchange_category(\u001b[38;5;124m'\u001b[39m\u001b[38;5;124m우유\u001b[39m\u001b[38;5;124m'\u001b[39m)\n",
      "Cell \u001b[1;32mIn[3], line 7\u001b[0m, in \u001b[0;36mmarket.__init__\u001b[1;34m(self, location, name, product, customer)\u001b[0m\n\u001b[0;32m      5\u001b[0m \u001b[38;5;28mself\u001b[39m\u001b[38;5;241m.\u001b[39mproduct \u001b[38;5;241m=\u001b[39m product\n\u001b[0;32m      6\u001b[0m \u001b[38;5;28mself\u001b[39m\u001b[38;5;241m.\u001b[39mcustomer \u001b[38;5;241m=\u001b[39m customer\n\u001b[1;32m----> 7\u001b[0m market\u001b[38;5;241m.\u001b[39msuper_count \u001b[38;5;241m+\u001b[39m\u001b[38;5;241m=\u001b[39m \u001b[38;5;241m1\u001b[39m\n",
      "\u001b[1;31mAttributeError\u001b[0m: type object 'market' has no attribute 'super_count'"
     ]
    }
   ],
   "source": [
    "class market :\n",
    "  def __init__(self,location,name,product,customer) :\n",
    "   self.location = location\n",
    "   self.name = name\n",
    "   self.product = product\n",
    "   self.customer = customer\n",
    "   market.super_count += 1\n",
    "\n",
    "  def print_location(self) :\n",
    "    print(self.location())\n",
    "  def change_category(self,new_product) :\n",
    "    self.product = new_product\n",
    "    print(self.product)\n",
    "  def show_list(self):\n",
    "    print(self.product())  \n",
    "  def enter_customer(self) :\n",
    "    self.customer += 1\n",
    "  def show_info (self) :\n",
    "    print(self.name())\n",
    "    print(self.location())\n",
    "    print(self.product())\n",
    "    print(self.customer())\n",
    "  def show_supermarket_count(self) : \n",
    "    print(market.super_count)\n",
    "\n",
    "store = market(\"인천\",'cu','커피',2)\n",
    "store.print_location()\n",
    "store.change_category('우유')\n",
    "store.show_list()\n",
    "store.enter_customer()\n",
    "store.show_supermarket_count()\n",
    "store.show_info()\n"
   ]
  },
  {
   "cell_type": "code",
   "execution_count": 3,
   "metadata": {},
   "outputs": [
    {
     "name": "stdout",
     "output_type": "stream",
     "text": [
      "비트코인\n"
     ]
    }
   ],
   "source": [
    "def print_coin():\n",
    "    print(\"비트코인\")\n",
    "print_coin()"
   ]
  }
 ],
 "metadata": {
  "kernelspec": {
   "display_name": "base",
   "language": "python",
   "name": "python3"
  },
  "language_info": {
   "codemirror_mode": {
    "name": "ipython",
    "version": 3
   },
   "file_extension": ".py",
   "mimetype": "text/x-python",
   "name": "python",
   "nbconvert_exporter": "python",
   "pygments_lexer": "ipython3",
   "version": "3.11.5"
  }
 },
 "nbformat": 4,
 "nbformat_minor": 2
}
