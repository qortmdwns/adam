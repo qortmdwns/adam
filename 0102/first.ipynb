{
 "cells": [
  {
   "cell_type": "code",
   "execution_count": 6,
   "metadata": {},
   "outputs": [
    {
     "name": "stdout",
     "output_type": "stream",
     "text": [
      "hello world\n"
     ]
    }
   ],
   "source": [
    "print(\"hello world\")\n"
   ]
  },
  {
   "cell_type": "code",
   "execution_count": 4,
   "metadata": {},
   "outputs": [],
   "source": [
    "a=3\n",
    "b=4"
   ]
  },
  {
   "cell_type": "code",
   "execution_count": 5,
   "metadata": {},
   "outputs": [
    {
     "name": "stdout",
     "output_type": "stream",
     "text": [
      "7\n"
     ]
    }
   ],
   "source": [
    "print(a+b)\n"
   ]
  },
  {
   "cell_type": "markdown",
   "metadata": {},
   "source": [
    "bolow"
   ]
  },
  {
   "cell_type": "markdown",
   "metadata": {},
   "source": []
  },
  {
   "cell_type": "code",
   "execution_count": 8,
   "metadata": {},
   "outputs": [
    {
     "name": "stdout",
     "output_type": "stream",
     "text": [
      "['False', 'None', 'True', 'and', 'as', 'assert', 'async', 'await', 'break', 'class', 'continue', 'def', 'del', 'elif', 'else', 'except', 'finally', 'for', 'from', 'global', 'if', 'import', 'in', 'is', 'lambda', 'nonlocal', 'not', 'or', 'pass', 'raise', 'return', 'try', 'while', 'with', 'yield']\n"
     ]
    }
   ],
   "source": [
    "import keyword\n",
    "print (keyword.kwlist)"
   ]
  },
  {
   "cell_type": "code",
   "execution_count": 2,
   "metadata": {},
   "outputs": [
    {
     "data": {
      "text/plain": [
       "3.14"
      ]
     },
     "execution_count": 2,
     "metadata": {},
     "output_type": "execute_result"
    }
   ],
   "source": [
    "\n",
    "abs(-3.14)\n",
    "# 이것은 주석입니다\n",
    "'ArithmeticError'"
   ]
  },
  {
   "cell_type": "code",
   "execution_count": 20,
   "metadata": {},
   "outputs": [
    {
     "name": "stdout",
     "output_type": "stream",
     "text": [
      "helloworld\n"
     ]
    }
   ],
   "source": [
    "\n",
    "print(\"hello\", \"world\", sep=\"\")\n"
   ]
  },
  {
   "cell_type": "code",
   "execution_count": 9,
   "metadata": {},
   "outputs": [
    {
     "name": "stdout",
     "output_type": "stream",
     "text": [
      "hello+world\n"
     ]
    }
   ],
   "source": [
    "print(\"hello\", \"world\", sep=\"+\")"
   ]
  },
  {
   "cell_type": "code",
   "execution_count": 11,
   "metadata": {},
   "outputs": [
    {
     "name": "stdout",
     "output_type": "stream",
     "text": [
      "helloworld\n"
     ]
    }
   ],
   "source": [
    "print(\"hello\"+\"world\")"
   ]
  },
  {
   "cell_type": "code",
   "execution_count": 12,
   "metadata": {},
   "outputs": [
    {
     "name": "stdout",
     "output_type": "stream",
     "text": [
      "hello 42\n"
     ]
    }
   ],
   "source": [
    "print(\"hello\",42)"
   ]
  },
  {
   "cell_type": "code",
   "execution_count": 19,
   "metadata": {},
   "outputs": [
    {
     "name": "stdout",
     "output_type": "stream",
     "text": [
      "helloworld\n"
     ]
    }
   ],
   "source": [
    "print(\"hello\",end=\"\")\n",
    "print(\"world\")\n"
   ]
  },
  {
   "cell_type": "code",
   "execution_count": 23,
   "metadata": {},
   "outputs": [
    {
     "name": "stdout",
     "output_type": "stream",
     "text": [
      "이름은 david, 나이는17, 사는곳은 seoul, 키는 175\n"
     ]
    }
   ],
   "source": [
    "myname = \"david\"\n",
    "age = 17\n",
    "add = \"seoul\"\n",
    "height = 175\n",
    "print(f\"이름은 {myname}, 나이는{age}, 사는곳은 {add}, 키는 {height}\")\n"
   ]
  },
  {
   "cell_type": "code",
   "execution_count": 3,
   "metadata": {},
   "outputs": [
    {
     "name": "stdout",
     "output_type": "stream",
     "text": [
      "5\n"
     ]
    }
   ],
   "source": [
    "a = int(input(\"숫자를 넣어주세요\"))\n",
    "a_modified=int(a)\n",
    "\n",
    "print(a)\n"
   ]
  },
  {
   "cell_type": "code",
   "execution_count": 31,
   "metadata": {},
   "outputs": [
    {
     "name": "stdout",
     "output_type": "stream",
     "text": [
      "str''\n"
     ]
    }
   ],
   "source": [
    "print('str\\'\\'')"
   ]
  },
  {
   "cell_type": "code",
   "execution_count": 33,
   "metadata": {},
   "outputs": [
    {
     "name": "stdout",
     "output_type": "stream",
     "text": [
      "what's\n"
     ]
    }
   ],
   "source": [
    "print('what\\'s')"
   ]
  },
  {
   "cell_type": "code",
   "execution_count": 38,
   "metadata": {},
   "outputs": [
    {
     "name": "stdout",
     "output_type": "stream",
     "text": [
      "|\\_/|\n",
      "|q p|   /}\n",
      "( 0 )\"\"\"\\\n",
      "|\"\\^'\\`  |\n",
      "||_/=\\\\__|\n"
     ]
    }
   ],
   "source": [
    "print('|\\_/|')\n",
    "print('|q p|   /}')\n",
    "print('( 0 )\"\\\"\\\"\\\\')\n",
    "print('|\\\"\\^\\'\\`  |')\n",
    "print('||_/=\\\\\\__|')      \n",
    "    \n",
    "      "
   ]
  },
  {
   "cell_type": "code",
   "execution_count": 42,
   "metadata": {},
   "outputs": [
    {
     "name": "stdout",
     "output_type": "stream",
     "text": [
      "\"오늘저녁 뭐 먹지?\"\n"
     ]
    }
   ],
   "source": [
    "print(\"\\\"오늘저녁 뭐 먹지?\\\"\")"
   ]
  },
  {
   "cell_type": "code",
   "execution_count": 44,
   "metadata": {},
   "outputs": [
    {
     "name": "stdout",
     "output_type": "stream",
     "text": [
      "1\n",
      "1.0\n"
     ]
    }
   ],
   "source": [
    "print(3//2)\n",
    "print(3.25//2)"
   ]
  },
  {
   "cell_type": "code",
   "execution_count": 47,
   "metadata": {},
   "outputs": [
    {
     "name": "stdout",
     "output_type": "stream",
     "text": [
      "0\n",
      "27\n"
     ]
    }
   ],
   "source": [
    "print(4%2)\n",
    "print(3**3)"
   ]
  },
  {
   "cell_type": "code",
   "execution_count": 76,
   "metadata": {},
   "outputs": [
    {
     "name": "stdout",
     "output_type": "stream",
     "text": [
      "epa\n"
     ]
    }
   ],
   "source": [
    "print(\"apple\"[5:-6:-2])"
   ]
  },
  {
   "cell_type": "code",
   "execution_count": 4,
   "metadata": {},
   "outputs": [
    {
     "name": "stdout",
     "output_type": "stream",
     "text": [
      "4\n"
     ]
    }
   ],
   "source": [
    "a=\"asdf\"\n",
    "print(len(a))"
   ]
  },
  {
   "cell_type": "code",
   "execution_count": 5,
   "metadata": {},
   "outputs": [
    {
     "name": "stdout",
     "output_type": "stream",
     "text": [
      "이름을 입력하세요.나이를 입력하세요.안녕하세요!백승준님(17세)\n"
     ]
    }
   ],
   "source": [
    "name = input(print(\"이름을 입력하세요.\",end=\"\"))\n",
    "age = input(print(\"나이를 입력하세요.\",end=\"\"))\n",
    "print(f\"안녕하세요!{name}님({age}세)\")\n"
   ]
  },
  {
   "cell_type": "code",
   "execution_count": 88,
   "metadata": {},
   "outputs": [
    {
     "name": "stdout",
     "output_type": "stream",
     "text": [
      "이름을 입력하세요.백승준\n",
      "태어난 년도를 입력하세요.2002\n",
      "올해 년도를 입력하세요.17\n",
      "올해는17년,백승준님의 나이는2002입니다.\n"
     ]
    }
   ],
   "source": [
    "name = input(print(\"이름을 입력하세요.\",end=\"\"))\n",
    "print(name)\n",
    "age = input(print(\"태어난 년도를 입력하세요.\",end=\"\"))\n",
    "print(age)\n",
    "year = input(print(\"올해 년도를 입력하세요.\",end=\"\"))\n",
    "print(year)\n",
    "print(f\"올해는{year}년,{name}님의 나이는{age}입니다.\")"
   ]
  },
  {
   "cell_type": "code",
   "execution_count": 2,
   "metadata": {},
   "outputs": [
    {
     "name": "stdout",
     "output_type": "stream",
     "text": [
      "[1, 2, 3, 6, 8]\n",
      "[1, 2, 3, 8, 6]\n",
      "2\n"
     ]
    }
   ],
   "source": [
    "a=[1,2,3,8,6]\n",
    "print(sorted(a))\n",
    "print(a)\n",
    "print(a[1])"
   ]
  },
  {
   "cell_type": "code",
   "execution_count": 6,
   "metadata": {},
   "outputs": [
    {
     "name": "stdout",
     "output_type": "stream",
     "text": [
      "orange\n",
      "['blue', 'green', 'indigo', 'orange', 'purple', 'red', 'yellow']\n",
      "['red', 'orange', 'yellow', 'green', 'blue', 'indigo', 'purple', 'black']\n",
      "['red', 'orange', 'purple', 'black']\n"
     ]
    }
   ],
   "source": [
    "rainbow=[\"red\", \"orange\", \"yellow\", \"green\", \"blue\", \"indigo\", \"purple\"]\n",
    "print(rainbow[1])\n",
    "print(sorted(rainbow))\n",
    "rainbow.append(\"black\")\n",
    "print(rainbow)\n",
    "del rainbow[2:6]\n",
    "print(rainbow)"
   ]
  },
  {
   "cell_type": "code",
   "execution_count": 9,
   "metadata": {},
   "outputs": [
    {
     "name": "stdout",
     "output_type": "stream",
     "text": [
      "small\n"
     ]
    }
   ],
   "source": [
    "a = int(input(\"숫자\"))\n",
    "b = int(input(\"숫자\"))\n",
    "\n",
    "if a>b:\n",
    "  print(\"big\")\n",
    "else:\n",
    "  print(\"small\")"
   ]
  },
  {
   "cell_type": "code",
   "execution_count": 10,
   "metadata": {},
   "outputs": [
    {
     "name": "stdout",
     "output_type": "stream",
     "text": [
      "짝수\n"
     ]
    }
   ],
   "source": [
    "a=int(input(\"숫자\"))\n",
    "\n",
    "if a%2 == 0:\n",
    "    print(\"짝수\")\n",
    "    \n",
    "else : \n",
    "    print(\"홀수\")"
   ]
  },
  {
   "cell_type": "code",
   "execution_count": 122,
   "metadata": {},
   "outputs": [
    {
     "name": "stdout",
     "output_type": "stream",
     "text": [
      "D등급\n"
     ]
    }
   ],
   "source": [
    "p=int(input(\"점수\"))\n",
    "\n",
    "if p>90:\n",
    "  print(\"A등급\")\n",
    "elif p>80:\n",
    "  print(\"B등급\")\n",
    "elif p>70:\n",
    "  print(\"C등급\")\n",
    "elif p>60:\n",
    "  print(\"D등급\")\n",
    "else :\n",
    "  print(\"E등급\")\n"
   ]
  },
  {
   "cell_type": "code",
   "execution_count": 15,
   "metadata": {},
   "outputs": [
    {
     "name": "stdout",
     "output_type": "stream",
     "text": [
      "1300원\n"
     ]
    }
   ],
   "source": [
    "a=int(input(\"나이\"))\n",
    "b=input(\"카드 or 현금\")\n",
    "\n",
    "if a<8:\n",
    "  print(\"무료\")\n",
    "elif 7<a<14:\n",
    "  print(\"450원\")\n",
    "elif 13<a<20:\n",
    "  if b==\"카드\" :\n",
    "    print(\"720원\")\n",
    "  else :\n",
    "    print(\"1000원\")\n",
    "elif 19<a<75:\n",
    "  if b==\"카드\" :\n",
    "    print(\"1200원\")\n",
    "  else :\n",
    "    print(\"1300원\")\n",
    "else :\n",
    "  print(\"무료\")"
   ]
  },
  {
   "cell_type": "code",
   "execution_count": 146,
   "metadata": {},
   "outputs": [
    {
     "data": {
      "text/plain": [
       "'cba'"
      ]
     },
     "execution_count": 146,
     "metadata": {},
     "output_type": "execute_result"
    }
   ],
   "source": [
    "mylist=list(\"abc\")\n",
    "mylist.reverse()\n",
    "\"\".join(mylist)\n",
    "\n"
   ]
  },
  {
   "cell_type": "code",
   "execution_count": 2,
   "metadata": {},
   "outputs": [
    {
     "name": "stdout",
     "output_type": "stream",
     "text": [
      "2360\n",
      "3776\n",
      "1416\n",
      "181720\n"
     ]
    }
   ],
   "source": [
    "a=input()\n",
    "b=input()\n",
    "print(int(a)*int(b[2]))\n",
    "print(int(a)*int(b[1]))\n",
    "print(int(a)*int(b[0]))\n",
    "print(int(a)*int(b))\n"
   ]
  }
 ],
 "metadata": {
  "kernelspec": {
   "display_name": "base",
   "language": "python",
   "name": "python3"
  },
  "language_info": {
   "codemirror_mode": {
    "name": "ipython",
    "version": 3
   },
   "file_extension": ".py",
   "mimetype": "text/x-python",
   "name": "python",
   "nbconvert_exporter": "python",
   "pygments_lexer": "ipython3",
   "version": "3.11.5"
  }
 },
 "nbformat": 4,
 "nbformat_minor": 2
}
