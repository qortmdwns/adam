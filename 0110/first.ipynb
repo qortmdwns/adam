{
 "cells": [
  {
   "cell_type": "code",
   "execution_count": 1,
   "metadata": {},
   "outputs": [
    {
     "name": "stdout",
     "output_type": "stream",
     "text": [
      "<turtle.Turtle object at 0x0000022AC8E36F10>\n"
     ]
    },
    {
     "ename": "Terminator",
     "evalue": "",
     "output_type": "error",
     "traceback": [
      "\u001b[1;31m---------------------------------------------------------------------------\u001b[0m",
      "\u001b[1;31mTerminator\u001b[0m                                Traceback (most recent call last)",
      "Cell \u001b[1;32mIn[1], line 10\u001b[0m\n\u001b[0;32m      8\u001b[0m \u001b[38;5;28;01mwhile\u001b[39;00m \u001b[38;5;28;01mTrue\u001b[39;00m:\n\u001b[0;32m      9\u001b[0m     john\u001b[38;5;241m.\u001b[39mforward(\u001b[38;5;241m5\u001b[39m)\n\u001b[1;32m---> 10\u001b[0m     john\u001b[38;5;241m.\u001b[39mleft(\u001b[38;5;241m5\u001b[39m)\n\u001b[0;32m     11\u001b[0m     time\u001b[38;5;241m.\u001b[39msleep(\u001b[38;5;241m1\u001b[39m)\n",
      "File \u001b[1;32mc:\\Users\\82107\\anaconda3\\Lib\\turtle.py:1700\u001b[0m, in \u001b[0;36mTNavigator.left\u001b[1;34m(self, angle)\u001b[0m\n\u001b[0;32m   1681\u001b[0m \u001b[38;5;28;01mdef\u001b[39;00m \u001b[38;5;21mleft\u001b[39m(\u001b[38;5;28mself\u001b[39m, angle):\n\u001b[0;32m   1682\u001b[0m \u001b[38;5;250m    \u001b[39m\u001b[38;5;124;03m\"\"\"Turn turtle left by angle units.\u001b[39;00m\n\u001b[0;32m   1683\u001b[0m \n\u001b[0;32m   1684\u001b[0m \u001b[38;5;124;03m    Aliases: left | lt\u001b[39;00m\n\u001b[1;32m   (...)\u001b[0m\n\u001b[0;32m   1698\u001b[0m \u001b[38;5;124;03m    67.0\u001b[39;00m\n\u001b[0;32m   1699\u001b[0m \u001b[38;5;124;03m    \"\"\"\u001b[39;00m\n\u001b[1;32m-> 1700\u001b[0m     \u001b[38;5;28mself\u001b[39m\u001b[38;5;241m.\u001b[39m_rotate(angle)\n",
      "File \u001b[1;32mc:\\Users\\82107\\anaconda3\\Lib\\turtle.py:3293\u001b[0m, in \u001b[0;36mRawTurtle._rotate\u001b[1;34m(self, angle)\u001b[0m\n\u001b[0;32m   3291\u001b[0m     \u001b[38;5;28;01mfor\u001b[39;00m _ \u001b[38;5;129;01min\u001b[39;00m \u001b[38;5;28mrange\u001b[39m(steps):\n\u001b[0;32m   3292\u001b[0m         \u001b[38;5;28mself\u001b[39m\u001b[38;5;241m.\u001b[39m_orient \u001b[38;5;241m=\u001b[39m \u001b[38;5;28mself\u001b[39m\u001b[38;5;241m.\u001b[39m_orient\u001b[38;5;241m.\u001b[39mrotate(delta)\n\u001b[1;32m-> 3293\u001b[0m         \u001b[38;5;28mself\u001b[39m\u001b[38;5;241m.\u001b[39m_update()\n\u001b[0;32m   3294\u001b[0m \u001b[38;5;28mself\u001b[39m\u001b[38;5;241m.\u001b[39m_orient \u001b[38;5;241m=\u001b[39m neworient\n\u001b[0;32m   3295\u001b[0m \u001b[38;5;28mself\u001b[39m\u001b[38;5;241m.\u001b[39m_update()\n",
      "File \u001b[1;32mc:\\Users\\82107\\anaconda3\\Lib\\turtle.py:2661\u001b[0m, in \u001b[0;36mRawTurtle._update\u001b[1;34m(self)\u001b[0m\n\u001b[0;32m   2659\u001b[0m     \u001b[38;5;28;01mreturn\u001b[39;00m\n\u001b[0;32m   2660\u001b[0m \u001b[38;5;28;01melif\u001b[39;00m screen\u001b[38;5;241m.\u001b[39m_tracing \u001b[38;5;241m==\u001b[39m \u001b[38;5;241m1\u001b[39m:\n\u001b[1;32m-> 2661\u001b[0m     \u001b[38;5;28mself\u001b[39m\u001b[38;5;241m.\u001b[39m_update_data()\n\u001b[0;32m   2662\u001b[0m     \u001b[38;5;28mself\u001b[39m\u001b[38;5;241m.\u001b[39m_drawturtle()\n\u001b[0;32m   2663\u001b[0m     screen\u001b[38;5;241m.\u001b[39m_update()                  \u001b[38;5;66;03m# TurtleScreenBase\u001b[39;00m\n",
      "File \u001b[1;32mc:\\Users\\82107\\anaconda3\\Lib\\turtle.py:2647\u001b[0m, in \u001b[0;36mRawTurtle._update_data\u001b[1;34m(self)\u001b[0m\n\u001b[0;32m   2646\u001b[0m \u001b[38;5;28;01mdef\u001b[39;00m \u001b[38;5;21m_update_data\u001b[39m(\u001b[38;5;28mself\u001b[39m):\n\u001b[1;32m-> 2647\u001b[0m     \u001b[38;5;28mself\u001b[39m\u001b[38;5;241m.\u001b[39mscreen\u001b[38;5;241m.\u001b[39m_incrementudc()\n\u001b[0;32m   2648\u001b[0m     \u001b[38;5;28;01mif\u001b[39;00m \u001b[38;5;28mself\u001b[39m\u001b[38;5;241m.\u001b[39mscreen\u001b[38;5;241m.\u001b[39m_updatecounter \u001b[38;5;241m!=\u001b[39m \u001b[38;5;241m0\u001b[39m:\n\u001b[0;32m   2649\u001b[0m         \u001b[38;5;28;01mreturn\u001b[39;00m\n",
      "File \u001b[1;32mc:\\Users\\82107\\anaconda3\\Lib\\turtle.py:1293\u001b[0m, in \u001b[0;36mTurtleScreen._incrementudc\u001b[1;34m(self)\u001b[0m\n\u001b[0;32m   1291\u001b[0m \u001b[38;5;28;01mif\u001b[39;00m \u001b[38;5;129;01mnot\u001b[39;00m TurtleScreen\u001b[38;5;241m.\u001b[39m_RUNNING:\n\u001b[0;32m   1292\u001b[0m     TurtleScreen\u001b[38;5;241m.\u001b[39m_RUNNING \u001b[38;5;241m=\u001b[39m \u001b[38;5;28;01mTrue\u001b[39;00m\n\u001b[1;32m-> 1293\u001b[0m     \u001b[38;5;28;01mraise\u001b[39;00m Terminator\n\u001b[0;32m   1294\u001b[0m \u001b[38;5;28;01mif\u001b[39;00m \u001b[38;5;28mself\u001b[39m\u001b[38;5;241m.\u001b[39m_tracing \u001b[38;5;241m>\u001b[39m \u001b[38;5;241m0\u001b[39m:\n\u001b[0;32m   1295\u001b[0m     \u001b[38;5;28mself\u001b[39m\u001b[38;5;241m.\u001b[39m_updatecounter \u001b[38;5;241m+\u001b[39m\u001b[38;5;241m=\u001b[39m \u001b[38;5;241m1\u001b[39m\n",
      "\u001b[1;31mTerminator\u001b[0m: "
     ]
    }
   ],
   "source": [
    "import time\n",
    "from turtle import Turtle\n",
    "\n",
    "john = Turtle()\n",
    "print(john)\n",
    "john.shape(\"turtle\")\n",
    "john.color(\"red\", \"green\")\n",
    "while True:\n",
    "    john.forward(5)\n",
    "    john.left(5)\n",
    "    time.sleep(1)"
   ]
  },
  {
   "cell_type": "code",
   "execution_count": 5,
   "metadata": {},
   "outputs": [
    {
     "name": "stdout",
     "output_type": "stream",
     "text": [
      "hello\n",
      "안녕\n",
      "반가워\n",
      "난, 코딩온이야\n",
      "0\n",
      "['hello\\n', '안녕\\n', '반가워\\n', '난, 코딩온이야']\n"
     ]
    }
   ],
   "source": [
    "f4 = open(\"test2.txt\",\"r\")\n",
    "print(f4.read())\n",
    "\n",
    "f4.seek(0)\n",
    "print(f4.tell())\n",
    "\n",
    "context = f4.readlines()\n",
    "print(context)\n",
    "\n",
    "f4.close()\n"
   ]
  },
  {
   "cell_type": "code",
   "execution_count": 17,
   "metadata": {},
   "outputs": [
    {
     "name": "stdout",
     "output_type": "stream",
     "text": [
      "hihi\n",
      "\n",
      "hi\n",
      "\n",
      "hi\n",
      "\n",
      "hi\n",
      "\n",
      "hi\n",
      "\n",
      "hi\n",
      "\n",
      "hi\n"
     ]
    }
   ],
   "source": [
    "#with open(\"example.txt\",\"a\") as file:\n",
    "  #file.write(\"\\nhi\")\n",
    "\n",
    "with open(\"example.txt\",\"r\") as file:\n",
    "  #print(file.read())\n",
    "  for line in file:\n",
    "    print(line)"
   ]
  },
  {
   "cell_type": "code",
   "execution_count": 16,
   "metadata": {},
   "outputs": [
    {
     "ename": "FileExistsError",
     "evalue": "[Errno 17] File exists: 'new_text.txt'",
     "output_type": "error",
     "traceback": [
      "\u001b[1;31m---------------------------------------------------------------------------\u001b[0m",
      "\u001b[1;31mFileExistsError\u001b[0m                           Traceback (most recent call last)",
      "Cell \u001b[1;32mIn[16], line 2\u001b[0m\n\u001b[0;32m      1\u001b[0m \u001b[38;5;66;03m#x는 이미 존재하는 파일은 안걸들고 새로 만들기\u001b[39;00m\n\u001b[1;32m----> 2\u001b[0m \u001b[38;5;28;01mwith\u001b[39;00m \u001b[38;5;28mopen\u001b[39m(\u001b[38;5;124m\"\u001b[39m\u001b[38;5;124mnew_text.txt\u001b[39m\u001b[38;5;124m\"\u001b[39m,\u001b[38;5;124m\"\u001b[39m\u001b[38;5;124mx\u001b[39m\u001b[38;5;124m\"\u001b[39m) \u001b[38;5;28;01mas\u001b[39;00m file:\n\u001b[0;32m      3\u001b[0m   \u001b[38;5;66;03m#file.write(\"This is a new file.\")\u001b[39;00m\n\u001b[0;32m      4\u001b[0m   \u001b[38;5;28mprint\u001b[39m(\u001b[38;5;28mtype\u001b[39m(file))\n",
      "File \u001b[1;32mc:\\Users\\82107\\anaconda3\\Lib\\site-packages\\IPython\\core\\interactiveshell.py:286\u001b[0m, in \u001b[0;36m_modified_open\u001b[1;34m(file, *args, **kwargs)\u001b[0m\n\u001b[0;32m    279\u001b[0m \u001b[38;5;28;01mif\u001b[39;00m file \u001b[38;5;129;01min\u001b[39;00m {\u001b[38;5;241m0\u001b[39m, \u001b[38;5;241m1\u001b[39m, \u001b[38;5;241m2\u001b[39m}:\n\u001b[0;32m    280\u001b[0m     \u001b[38;5;28;01mraise\u001b[39;00m \u001b[38;5;167;01mValueError\u001b[39;00m(\n\u001b[0;32m    281\u001b[0m         \u001b[38;5;124mf\u001b[39m\u001b[38;5;124m\"\u001b[39m\u001b[38;5;124mIPython won\u001b[39m\u001b[38;5;124m'\u001b[39m\u001b[38;5;124mt let you open fd=\u001b[39m\u001b[38;5;132;01m{\u001b[39;00mfile\u001b[38;5;132;01m}\u001b[39;00m\u001b[38;5;124m by default \u001b[39m\u001b[38;5;124m\"\u001b[39m\n\u001b[0;32m    282\u001b[0m         \u001b[38;5;124m\"\u001b[39m\u001b[38;5;124mas it is likely to crash IPython. If you know what you are doing, \u001b[39m\u001b[38;5;124m\"\u001b[39m\n\u001b[0;32m    283\u001b[0m         \u001b[38;5;124m\"\u001b[39m\u001b[38;5;124myou can use builtins\u001b[39m\u001b[38;5;124m'\u001b[39m\u001b[38;5;124m open.\u001b[39m\u001b[38;5;124m\"\u001b[39m\n\u001b[0;32m    284\u001b[0m     )\n\u001b[1;32m--> 286\u001b[0m \u001b[38;5;28;01mreturn\u001b[39;00m io_open(file, \u001b[38;5;241m*\u001b[39margs, \u001b[38;5;241m*\u001b[39m\u001b[38;5;241m*\u001b[39mkwargs)\n",
      "\u001b[1;31mFileExistsError\u001b[0m: [Errno 17] File exists: 'new_text.txt'"
     ]
    }
   ],
   "source": [
    "#x는 이미 존재하는 파일은 안걸들고 새로 만들기\n",
    "with open(\"new_text.txt\",\"x\") as file:\n",
    "  file.write(\"This is a new file.\")\n"
   ]
  },
  {
   "cell_type": "code",
   "execution_count": 46,
   "metadata": {},
   "outputs": [
    {
     "name": "stdout",
     "output_type": "stream",
     "text": [
      "도파 1\n",
      "랄로 2\n",
      "파카 3\n"
     ]
    }
   ],
   "source": [
    "for _ in range(3) :\n",
    "  with open(\"member.txt\", \"a\") as file :\n",
    "    file.write(input(\"아이디 입력\")+\" \")\n",
    "    file.write(input(\"비밀번호 입력\") + \"\\n\")\n",
    "\n",
    "with open(\"member.txt\", \"r\") as f: \n",
    "    line = f.readline()\n",
    "    while line:\n",
    "        print(line.strip()) \n",
    "        line = f.readline()\n",
    "  "
   ]
  },
  {
   "cell_type": "code",
   "execution_count": 59,
   "metadata": {},
   "outputs": [
    {
     "name": "stdout",
     "output_type": "stream",
     "text": [
      "로그인 실패\n",
      "로그인 실패\n",
      "로그인 성공\n"
     ]
    }
   ],
   "source": [
    "A = input(\"이름을 입력하세요\")\n",
    "B = input(\"비밀번호를 입력하세요\")\n",
    "with open(\"member.txt\", \"r\") as f: \n",
    "  line = f.readline()\n",
    "  while (line) :\n",
    "    if A + \" \" and B in line.strip():\n",
    "      print(\"로그인 성공\")\n",
    "      break\n",
    "    else :\n",
    "      print(\"로그인 실패\")\n",
    "    line = f.readline()"
   ]
  },
  {
   "cell_type": "code",
   "execution_count": 68,
   "metadata": {},
   "outputs": [
    {
     "ename": "TypeError",
     "evalue": "'in <string>' requires string as left operand, not tuple",
     "output_type": "error",
     "traceback": [
      "\u001b[1;31m---------------------------------------------------------------------------\u001b[0m",
      "\u001b[1;31mTypeError\u001b[0m                                 Traceback (most recent call last)",
      "Cell \u001b[1;32mIn[68], line 14\u001b[0m\n\u001b[0;32m     12\u001b[0m   \u001b[38;5;28mprint\u001b[39m(\u001b[38;5;124m\"\u001b[39m\u001b[38;5;124m로그인 실패\u001b[39m\u001b[38;5;124m\"\u001b[39m) \n\u001b[0;32m     13\u001b[0m line \u001b[38;5;241m=\u001b[39m f\u001b[38;5;241m.\u001b[39mreadline()   \n\u001b[1;32m---> 14\u001b[0m \u001b[38;5;28;01mif\u001b[39;00m new_mem \u001b[38;5;129;01min\u001b[39;00m line\u001b[38;5;241m.\u001b[39mstrip() :\n\u001b[0;32m     15\u001b[0m   \u001b[38;5;28;01mwith\u001b[39;00m \u001b[38;5;28mopen\u001b[39m(\u001b[38;5;124m\"\u001b[39m\u001b[38;5;124mmember_tel.txt\u001b[39m\u001b[38;5;124m\"\u001b[39m, \u001b[38;5;124m\"\u001b[39m\u001b[38;5;124ma\u001b[39m\u001b[38;5;124m\"\u001b[39m) \u001b[38;5;28;01mas\u001b[39;00m file :\n\u001b[0;32m     16\u001b[0m     file\u001b[38;5;241m.\u001b[39mwrite(\u001b[38;5;28minput\u001b[39m(\u001b[38;5;124m\"\u001b[39m\u001b[38;5;124m전화번호를 입력하세요\u001b[39m\u001b[38;5;124m\"\u001b[39m)) \n",
      "\u001b[1;31mTypeError\u001b[0m: 'in <string>' requires string as left operand, not tuple"
     ]
    }
   ],
   "source": [
    "A = input(\"이름을 입력하세요\")\n",
    "B = input(\"비밀번호를 입력하세요\")\n",
    "new_mem = input(\"id\"), input(\"pw\")\n",
    "al_mem = input(\"id\"), input(\"pw\")\n",
    "with open(\"member.txt\", \"r\") as f: \n",
    "  line = f.readline()\n",
    "  while (line) :\n",
    "    if A + \" \" and B in line.strip():\n",
    "      with open(\"member_tel.txt\", \"a\") as file :\n",
    "        file.write(input(\"전화번호를 입력하세요\")) \n",
    "    else:\n",
    "      print(\"로그인 실패\") \n",
    "    line = f.readline()   \n",
    "    if new_mem in line.strip() :\n",
    "      with open(\"member_tel.txt\", \"a\") as file :\n",
    "        file.write(input(\"전화번호를 입력하세요\")) \n",
    "    else:\n",
    "      print(\"로그인 실패\")\n",
    "    line = f.readline()  \n",
    "    if al_mem in line.strip() :\n",
    "      with open(\"member_tel.txt\", \"a\") as file :\n",
    "        file.write(input(\"전화번호를 입력하세요\"))\n",
    "    else:\n",
    "      print(\"로그인 실패\")\n",
    "    line = f.readline()\n",
    "    \n",
    "with open(\"member.txt\", \"r\") as f: \n",
    "    line = f.readline()\n",
    "    while line:\n",
    "        print(line.strip()) \n",
    "        line = f.readline()\n",
    "\n",
    "with open(\"member_tel.txt\", \"r\") as file: \n",
    "    line_1 = file.readline()\n",
    "    while line_1:\n",
    "        print(line_1.strip()) \n",
    "        line_1 = file.readline()\n"
   ]
  },
  {
   "cell_type": "code",
   "execution_count": 69,
   "metadata": {},
   "outputs": [
    {
     "name": "stdout",
     "output_type": "stream",
     "text": [
      "log in\n"
     ]
    }
   ],
   "source": [
    "name = input(\"input name\")\n",
    "pw = input(\"input pw\")\n",
    "isLogin = False\n",
    "with open(\"member.txt\",\"r\") as file:\n",
    "  lines = file.readlines()\n",
    "  file.seek(0)\n",
    "  for line in lines:\n",
    "    text = line.split()# [ name, pw ]\n",
    "    if len(text) >= 2 and text[0] == name and text[1] == pw:\n",
    "      isLogin= True\n",
    "      break\n",
    "if isLogin:\n",
    "  print(\"log in\")\n",
    "else :\n",
    "  print(\"log in failed\")\n",
    "if isLogin:\n",
    "  telNum = input(\"input tel num\")\n",
    "  with open(\"member_tel.txt\",\"r+\") as file:\n",
    "    lines = file.readlines()\n",
    "    file.seek(0)\n",
    "    for i, line in enumerate(lines): # mylist = ['A', 'B', 'C'] -> (0, 'A'), (1, 'B'), (2,'C')\n",
    "      text = line.split()\n",
    "      if text and text[0] == name:\n",
    "        lines[i] = f\"{name} {telNum}\\n\"\n",
    "        break\n",
    "    else:\n",
    "      lines.append(f\"{name} {telNum}\\n\")\n",
    "    file.writelines(lines)"
   ]
  },
  {
   "cell_type": "code",
   "execution_count": 76,
   "metadata": {},
   "outputs": [
    {
     "name": "stdout",
     "output_type": "stream",
     "text": [
      "정수를 입력하세요.\n",
      "정수를 입력하세요.\n",
      "정수를 입력하세요.\n",
      "정답\n"
     ]
    }
   ],
   "source": [
    "\n",
    "while (1) :\n",
    "  A = input(\"정수\")\n",
    "  try :  \n",
    "    A == int(A)\n",
    "    print(\"정답\")\n",
    "    break\n",
    "  except ValueError :\n",
    "    print(\"정수를 입력하세요.\")\n",
    "\n",
    "  "
   ]
  },
  {
   "cell_type": "code",
   "execution_count": 80,
   "metadata": {},
   "outputs": [
    {
     "data": {
      "text/plain": [
       "array([[3, 6],\n",
       "       [3, 6]])"
      ]
     },
     "execution_count": 80,
     "metadata": {},
     "output_type": "execute_result"
    }
   ],
   "source": [
    "import numpy as np\n",
    "\n",
    "A = [[1,2], [1,2]]\n",
    "B = [[1,2], [1,2]]\n",
    "np.matmul(A,B)\n"
   ]
  },
  {
   "cell_type": "code",
   "execution_count": 1,
   "metadata": {},
   "outputs": [
    {
     "name": "stdout",
     "output_type": "stream",
     "text": [
      "[0. 0. 0. 0. 0. 0. 0. 0. 0. 0.]\n",
      "[0. 0. 0. 0. 1. 0. 0. 0. 0. 0.]\n",
      "[10 11 12 13 14 15 16 17 18 19 20 21 22 23 24 25 26 27 28 29 30]\n",
      "[[ 7 90]\n",
      " [77  8]]\n",
      "[[0.97379414 0.96136595 0.13258734 0.16454334]\n",
      " [0.90395585 0.09894395 0.32447984 0.66935168]]\n"
     ]
    }
   ],
   "source": [
    "import numpy as np\n",
    "\n",
    "zero_array = np.zeros(10)\n",
    "print(zero_array)\n",
    "\n",
    "zero_array[4] = 1\n",
    "print(zero_array)\n",
    "\n",
    "A_array = np.arange(10,31)\n",
    "print(A_array)\n",
    "\n",
    "random_array = np.random.randint(0,100,(2,2))\n",
    "print(random_array)\n",
    "\n",
    "C_array = np.random.rand(2,4)\n",
    "print(C_array)"
   ]
  },
  {
   "cell_type": "code",
   "execution_count": 4,
   "metadata": {},
   "outputs": [
    {
     "name": "stdout",
     "output_type": "stream",
     "text": [
      "[[38 18 14 44  8 33]\n",
      " [32  5 43 37 49 17]\n",
      " [37 46 24 14 24 14]\n",
      " [30 50 11  1 43 33]\n",
      " [24  7  3 36  6  5]]\n"
     ]
    },
    {
     "data": {
      "text/plain": [
       "array([38, 18, 14, 44,  8, 32, 46, 24, 14, 24, 14, 30, 50, 24, 36,  6])"
      ]
     },
     "execution_count": 4,
     "metadata": {},
     "output_type": "execute_result"
    }
   ],
   "source": [
    "import numpy as nb\n",
    "\n",
    "asd = nb.arange(35,75)\n",
    "asd.shape = (10,4)\n",
    "#print(asd)\n",
    "\n",
    "ads = asd[::-1]\n",
    "#print(ads)\n",
    "\n",
    "A = asd[1:-1, 2:]\n",
    "#print(A)\n",
    "\n",
    "B = asd[:,3]\n",
    "#print(B)\n",
    "\n",
    "B_1 = asd[:,3:]\n",
    "#print(B_1)\n",
    "\n",
    "C = asd[::-1, 3::]\n",
    "#print(C)\n",
    "\n",
    "D = nb.random.randint(1,51,(5,6))\n",
    "print(D)\n",
    "D[D%2 == 0]"
   ]
  },
  {
   "cell_type": "code",
   "execution_count": 14,
   "metadata": {},
   "outputs": [
    {
     "name": "stdout",
     "output_type": "stream",
     "text": [
      "[  1   2   3   4   5   7   8   9  10  11  24 100]\n",
      "100 1 15.333333333333334\n",
      "184\n",
      "5.0\n"
     ]
    }
   ],
   "source": [
    "import numpy as np\n",
    "\n",
    "A = [1, 1, 2, 3, 4, 5, 5, 5, 5, 7, 8, 9, 10, 11, 24, 100]\n",
    "#1\n",
    "A_unique = np.unique(A)\n",
    "print(A_unique)\n",
    "#2\n",
    "A_max = np.max(A_unique)\n",
    "A_min = np.min(A_unique)\n",
    "A_mean = np.mean(A_unique)\n",
    "print(A_max, A_min, A_mean)\n",
    "#3\n",
    "A_sum = np.sum(A_unique)\n",
    "print(A_sum)\n",
    "#4\n",
    "A_median = np.median(A)\n",
    "print(A_median)"
   ]
  }
 ],
 "metadata": {
  "kernelspec": {
   "display_name": "base",
   "language": "python",
   "name": "python3"
  },
  "language_info": {
   "codemirror_mode": {
    "name": "ipython",
    "version": 3
   },
   "file_extension": ".py",
   "mimetype": "text/x-python",
   "name": "python",
   "nbconvert_exporter": "python",
   "pygments_lexer": "ipython3",
   "version": "3.11.5"
  }
 },
 "nbformat": 4,
 "nbformat_minor": 2
}
